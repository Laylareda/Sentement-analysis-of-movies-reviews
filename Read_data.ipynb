{
 "cells": [
  {
   "cell_type": "code",
   "execution_count": 2,
   "id": "459bfda0",
   "metadata": {},
   "outputs": [],
   "source": [
    "import os\n",
    "import pandas as pd\n",
    "import numpy as np"
   ]
  },
  {
   "cell_type": "code",
   "execution_count": 3,
   "id": "42c8206f",
   "metadata": {},
   "outputs": [],
   "source": [
    "path =r\"F:\\college\\fourth (1) cs\\SECOND TERM\\NLP\\NLPproject\\neg\"\n",
    "os.chdir(path)\n",
    "neglist=[\"neg\"]"
   ]
  },
  {
   "cell_type": "code",
   "execution_count": 5,
   "id": "fe359ce9",
   "metadata": {},
   "outputs": [],
   "source": [
    "neglist=np.repeat(neglist,1000)\n",
    "llist=[]"
   ]
  },
  {
   "cell_type": "code",
   "execution_count": 6,
   "id": "8daab629",
   "metadata": {},
   "outputs": [],
   "source": [
    "def read_files(file_path):\n",
    "   with open(file_path, 'r') as file:\n",
    "      llist.append(file.readlines())\n",
    "        "
   ]
  },
  {
   "cell_type": "code",
   "execution_count": 7,
   "id": "c74d56b6",
   "metadata": {},
   "outputs": [],
   "source": [
    "for file in os.listdir():\n",
    "   if file.endswith('.txt'):\n",
    "      # Create the filepath of particular file\n",
    "      file_path =f\"{path}/{file}\"\n",
    "      read_files(file_path)"
   ]
  },
  {
   "cell_type": "code",
   "execution_count": 8,
   "id": "caa64cdc",
   "metadata": {},
   "outputs": [],
   "source": [
    "path =r\"F:\\college\\fourth (1) cs\\SECOND TERM\\NLP\\NLPproject\\pos\"\n",
    "os.chdir(path)\n",
    "poslist=[\"pos\"]\n",
    "poslist=np.repeat(poslist,1000)"
   ]
  },
  {
   "cell_type": "code",
   "execution_count": 9,
   "id": "470e4c85",
   "metadata": {},
   "outputs": [],
   "source": [
    "for file in os.listdir():\n",
    "   if file.endswith('.txt'):\n",
    "      # Create the filepath of particular file\n",
    "      file_path =f\"{path}/{file}\"\n",
    "      read_files(file_path)\n",
    "\n"
   ]
  },
  {
   "cell_type": "code",
   "execution_count": 10,
   "id": "1c2e1feb",
   "metadata": {},
   "outputs": [],
   "source": [
    "polaritylist=[*neglist,*poslist]\n",
    "data ={'polarity':polaritylist,'review':llist}\n",
    "df = pd.DataFrame(data, columns= ['polarity', 'review'])\n",
    "df.to_csv (r'F:\\college\\fourth (1) cs\\SECOND TERM\\NLP\\polarityReview.csv', index = False, header=True)"
   ]
  },
  {
   "cell_type": "code",
   "execution_count": 11,
   "id": "d5ea575f",
   "metadata": {},
   "outputs": [
    {
     "name": "stdout",
     "output_type": "stream",
     "text": [
      "  polarity                                             review\n",
      "0      neg  [plot : two teen couples go to a church party ...\n",
      "1      neg  [the happy bastard's quick movie review \\n, da...\n",
      "2      neg  [it is movies like these that make a jaded mov...\n",
      "3      neg  [ \" quest for camelot \" is warner bros . ' fir...\n",
      "4      neg  [synopsis : a mentally unstable man undergoing...\n"
     ]
    }
   ],
   "source": [
    "print (df.head(5))"
   ]
  }
 ],
 "metadata": {
  "kernelspec": {
   "display_name": "Python 3",
   "language": "python",
   "name": "python3"
  },
  "language_info": {
   "codemirror_mode": {
    "name": "ipython",
    "version": 3
   },
   "file_extension": ".py",
   "mimetype": "text/x-python",
   "name": "python",
   "nbconvert_exporter": "python",
   "pygments_lexer": "ipython3",
   "version": "3.8.8"
  }
 },
 "nbformat": 4,
 "nbformat_minor": 5
}
